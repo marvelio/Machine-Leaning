{
  "nbformat": 4,
  "nbformat_minor": 0,
  "metadata": {
    "colab": {
      "name": "Delhi Daily Climate_MAE Test",
      "provenance": []
    },
    "kernelspec": {
      "name": "python3",
      "display_name": "Python 3"
    },
    "language_info": {
      "name": "python"
    }
  },
  "cells": [
    {
      "cell_type": "code",
      "metadata": {
        "id": "aI207u6A0tBG"
      },
      "source": [
        "import numpy as np\n",
        "import pandas as pd\n",
        "from keras.layers import Dense, LSTM\n",
        "import matplotlib.pyplot as plt\n",
        "import tensorflow as tf"
      ],
      "execution_count": 1,
      "outputs": []
    },
    {
      "cell_type": "code",
      "metadata": {
        "colab": {
          "base_uri": "https://localhost:8080/",
          "height": 203
        },
        "id": "aDkHFAqe0zaC",
        "outputId": "89a1b9a7-9409-4853-cde5-27fcfc2eb6b4"
      },
      "source": [
        "data_train = pd.read_csv('/content/DailyDelhiClimateTrain.csv')\n",
        "data_train.head()"
      ],
      "execution_count": 2,
      "outputs": [
        {
          "output_type": "execute_result",
          "data": {
            "text/html": [
              "<div>\n",
              "<style scoped>\n",
              "    .dataframe tbody tr th:only-of-type {\n",
              "        vertical-align: middle;\n",
              "    }\n",
              "\n",
              "    .dataframe tbody tr th {\n",
              "        vertical-align: top;\n",
              "    }\n",
              "\n",
              "    .dataframe thead th {\n",
              "        text-align: right;\n",
              "    }\n",
              "</style>\n",
              "<table border=\"1\" class=\"dataframe\">\n",
              "  <thead>\n",
              "    <tr style=\"text-align: right;\">\n",
              "      <th></th>\n",
              "      <th>date</th>\n",
              "      <th>meantemp</th>\n",
              "      <th>humidity</th>\n",
              "      <th>wind_speed</th>\n",
              "      <th>meanpressure</th>\n",
              "    </tr>\n",
              "  </thead>\n",
              "  <tbody>\n",
              "    <tr>\n",
              "      <th>0</th>\n",
              "      <td>2013-01-01</td>\n",
              "      <td>10.000000</td>\n",
              "      <td>84.500000</td>\n",
              "      <td>0.000000</td>\n",
              "      <td>1015.666667</td>\n",
              "    </tr>\n",
              "    <tr>\n",
              "      <th>1</th>\n",
              "      <td>2013-01-02</td>\n",
              "      <td>7.400000</td>\n",
              "      <td>92.000000</td>\n",
              "      <td>2.980000</td>\n",
              "      <td>1017.800000</td>\n",
              "    </tr>\n",
              "    <tr>\n",
              "      <th>2</th>\n",
              "      <td>2013-01-03</td>\n",
              "      <td>7.166667</td>\n",
              "      <td>87.000000</td>\n",
              "      <td>4.633333</td>\n",
              "      <td>1018.666667</td>\n",
              "    </tr>\n",
              "    <tr>\n",
              "      <th>3</th>\n",
              "      <td>2013-01-04</td>\n",
              "      <td>8.666667</td>\n",
              "      <td>71.333333</td>\n",
              "      <td>1.233333</td>\n",
              "      <td>1017.166667</td>\n",
              "    </tr>\n",
              "    <tr>\n",
              "      <th>4</th>\n",
              "      <td>2013-01-05</td>\n",
              "      <td>6.000000</td>\n",
              "      <td>86.833333</td>\n",
              "      <td>3.700000</td>\n",
              "      <td>1016.500000</td>\n",
              "    </tr>\n",
              "  </tbody>\n",
              "</table>\n",
              "</div>"
            ],
            "text/plain": [
              "         date   meantemp   humidity  wind_speed  meanpressure\n",
              "0  2013-01-01  10.000000  84.500000    0.000000   1015.666667\n",
              "1  2013-01-02   7.400000  92.000000    2.980000   1017.800000\n",
              "2  2013-01-03   7.166667  87.000000    4.633333   1018.666667\n",
              "3  2013-01-04   8.666667  71.333333    1.233333   1017.166667\n",
              "4  2013-01-05   6.000000  86.833333    3.700000   1016.500000"
            ]
          },
          "metadata": {
            "tags": []
          },
          "execution_count": 2
        }
      ]
    },
    {
      "cell_type": "code",
      "metadata": {
        "colab": {
          "base_uri": "https://localhost:8080/"
        },
        "id": "VlFbpDeV01ZQ",
        "outputId": "ce8d4c90-fbb4-4d5d-9969-17622e702851"
      },
      "source": [
        "data_train.isnull().sum()"
      ],
      "execution_count": 3,
      "outputs": [
        {
          "output_type": "execute_result",
          "data": {
            "text/plain": [
              "date            0\n",
              "meantemp        0\n",
              "humidity        0\n",
              "wind_speed      0\n",
              "meanpressure    0\n",
              "dtype: int64"
            ]
          },
          "metadata": {
            "tags": []
          },
          "execution_count": 3
        }
      ]
    },
    {
      "cell_type": "code",
      "metadata": {
        "colab": {
          "base_uri": "https://localhost:8080/",
          "height": 341
        },
        "id": "8bYme7cZ0333",
        "outputId": "a32d1713-95b8-46b1-ffa8-79950cd66130"
      },
      "source": [
        "dates = data_train['date'].values\n",
        "temp  = data_train['meantemp'].values\n",
        " \n",
        " \n",
        "plt.figure(figsize=(15,5))\n",
        "plt.plot(dates, temp)\n",
        "plt.title('Perubahan Temperatur Harian',\n",
        "          fontsize=20);"
      ],
      "execution_count": 5,
      "outputs": [
        {
          "output_type": "display_data",
          "data": {
            "image/png": "[encoded data removed]",
            "text/plain": [
              "<Figure size 1080x360 with 1 Axes>"
            ]
          },
          "metadata": {
            "tags": [],
            "needs_background": "light"
          }
        }
      ]
    },
    {
      "cell_type": "code",
      "metadata": {
        "id": "iW1SP-LE0528"
      },
      "source": [
        "def windowed_dataset(series, window_size, batch_size, shuffle_buffer):\n",
        "    series = tf.expand_dims(series, axis=-1)\n",
        "    ds = tf.data.Dataset.from_tensor_slices(series)\n",
        "    ds = ds.window(window_size + 1, shift=1, drop_remainder=True)\n",
        "    ds = ds.flat_map(lambda w: w.batch(window_size + 1))\n",
        "    ds = ds.shuffle(shuffle_buffer)\n",
        "    ds = ds.map(lambda w: (w[:-1], w[-1:]))\n",
        "    return ds.batch(batch_size).prefetch(1)"
      ],
      "execution_count": 6,
      "outputs": []
    },
    {
      "cell_type": "code",
      "metadata": {
        "id": "XSL2CT8H2bcI"
      },
      "source": [
        "train_set = windowed_dataset(temp, window_size=60, batch_size=100, shuffle_buffer=1000)\n",
        "model = tf.keras.models.Sequential([\n",
        "  tf.keras.layers.LSTM(60, return_sequences=True),\n",
        "  tf.keras.layers.LSTM(60),\n",
        "  tf.keras.layers.Dense(30, activation=\"relu\"),\n",
        "  tf.keras.layers.Dense(10, activation=\"relu\"),\n",
        "  tf.keras.layers.Dense(1),\n",
        "])"
      ],
      "execution_count": 7,
      "outputs": []
    },
    {
      "cell_type": "code",
      "metadata": {
        "colab": {
          "base_uri": "https://localhost:8080/"
        },
        "id": "HKj8450g2smS",
        "outputId": "d182134b-c42b-493f-9932-7d09a7686120"
      },
      "source": [
        "optimizer = tf.keras.optimizers.SGD(lr=1.0000e-04, momentum=0.9)\n",
        "model.compile(loss=tf.keras.losses.Huber(),\n",
        "              optimizer=optimizer,\n",
        "              metrics=[\"mae\"])\n",
        "history = model.fit(train_set,epochs=100)"
      ],
      "execution_count": 8,
      "outputs": [
        {
          "output_type": "stream",
          "text": [
            "/usr/local/lib/python3.7/dist-packages/tensorflow/python/keras/optimizer_v2/optimizer_v2.py:375: UserWarning: The `lr` argument is deprecated, use `learning_rate` instead.\n",
            "  \"The `lr` argument is deprecated, use `learning_rate` instead.\")\n"
          ],
          "name": "stderr"
        },
        {
          "output_type": "stream",
          "text": [
            "Epoch 1/100\n",
            "15/15 [==============================] - 5s 90ms/step - loss: 25.4318 - mae: 25.9318\n",
            "Epoch 2/100\n",
            "15/15 [==============================] - 1s 87ms/step - loss: 25.2935 - mae: 25.7935\n",
            "Epoch 3/100\n",
            "15/15 [==============================] - 1s 86ms/step - loss: 25.1969 - mae: 25.6969\n",
            "Epoch 4/100\n",
            "15/15 [==============================] - 1s 87ms/step - loss: 25.0996 - mae: 25.5996\n",
            "Epoch 5/100\n",
            "15/15 [==============================] - 1s 85ms/step - loss: 24.9846 - mae: 25.4846\n",
            "Epoch 6/100\n",
            "15/15 [==============================] - 1s 85ms/step - loss: 24.8573 - mae: 25.3573\n",
            "Epoch 7/100\n",
            "15/15 [==============================] - 1s 83ms/step - loss: 24.7165 - mae: 25.2165\n",
            "Epoch 8/100\n",
            "15/15 [==============================] - 1s 86ms/step - loss: 24.5586 - mae: 25.0586\n",
            "Epoch 9/100\n",
            "15/15 [==============================] - 1s 84ms/step - loss: 24.3805 - mae: 24.8805\n",
            "Epoch 10/100\n",
            "15/15 [==============================] - 1s 85ms/step - loss: 24.1772 - mae: 24.6772\n",
            "Epoch 11/100\n",
            "15/15 [==============================] - 1s 86ms/step - loss: 23.9416 - mae: 24.4416\n",
            "Epoch 12/100\n",
            "15/15 [==============================] - 2s 90ms/step - loss: 23.6650 - mae: 24.1650\n",
            "Epoch 13/100\n",
            "15/15 [==============================] - 1s 87ms/step - loss: 23.3426 - mae: 23.8426\n",
            "Epoch 14/100\n",
            "15/15 [==============================] - 1s 87ms/step - loss: 22.9655 - mae: 23.4655\n",
            "Epoch 15/100\n",
            "15/15 [==============================] - 2s 91ms/step - loss: 22.5136 - mae: 23.0136\n",
            "Epoch 16/100\n",
            "15/15 [==============================] - 1s 87ms/step - loss: 21.9607 - mae: 22.4607\n",
            "Epoch 17/100\n",
            "15/15 [==============================] - 1s 85ms/step - loss: 21.2741 - mae: 21.7741\n",
            "Epoch 18/100\n",
            "15/15 [==============================] - 1s 86ms/step - loss: 20.4100 - mae: 20.9100\n",
            "Epoch 19/100\n",
            "15/15 [==============================] - 2s 91ms/step - loss: 19.3031 - mae: 19.8031\n",
            "Epoch 20/100\n",
            "15/15 [==============================] - 1s 86ms/step - loss: 17.8572 - mae: 18.3572\n",
            "Epoch 21/100\n",
            "15/15 [==============================] - 1s 84ms/step - loss: 15.9249 - mae: 16.4240\n",
            "Epoch 22/100\n",
            "15/15 [==============================] - 2s 90ms/step - loss: 13.3436 - mae: 13.8371\n",
            "Epoch 23/100\n",
            "15/15 [==============================] - 1s 87ms/step - loss: 10.4917 - mae: 10.9826\n",
            "Epoch 24/100\n",
            "15/15 [==============================] - 1s 87ms/step - loss: 7.7996 - mae: 8.2889\n",
            "Epoch 25/100\n",
            "15/15 [==============================] - 1s 85ms/step - loss: 5.9564 - mae: 6.4441\n",
            "Epoch 26/100\n",
            "15/15 [==============================] - 1s 85ms/step - loss: 5.2860 - mae: 5.7750\n",
            "Epoch 27/100\n",
            "15/15 [==============================] - 2s 91ms/step - loss: 5.1273 - mae: 5.6129\n",
            "Epoch 28/100\n",
            "15/15 [==============================] - 1s 88ms/step - loss: 5.0593 - mae: 5.5395\n",
            "Epoch 29/100\n",
            "15/15 [==============================] - 1s 84ms/step - loss: 4.9933 - mae: 5.4794\n",
            "Epoch 30/100\n",
            "15/15 [==============================] - 1s 87ms/step - loss: 4.9136 - mae: 5.4016\n",
            "Epoch 31/100\n",
            "15/15 [==============================] - 1s 85ms/step - loss: 4.6599 - mae: 5.1480\n",
            "Epoch 32/100\n",
            "15/15 [==============================] - 1s 86ms/step - loss: 3.8680 - mae: 4.3533\n",
            "Epoch 33/100\n",
            "15/15 [==============================] - 1s 87ms/step - loss: 2.7229 - mae: 3.1906\n",
            "Epoch 34/100\n",
            "15/15 [==============================] - 1s 85ms/step - loss: 3.8668 - mae: 4.3486\n",
            "Epoch 35/100\n",
            "15/15 [==============================] - 1s 86ms/step - loss: 3.1094 - mae: 3.5805\n",
            "Epoch 36/100\n",
            "15/15 [==============================] - 1s 88ms/step - loss: 2.2331 - mae: 2.6956\n",
            "Epoch 37/100\n",
            "15/15 [==============================] - 1s 85ms/step - loss: 2.1987 - mae: 2.6587\n",
            "Epoch 38/100\n",
            "15/15 [==============================] - 1s 86ms/step - loss: 1.8386 - mae: 2.2914\n",
            "Epoch 39/100\n",
            "15/15 [==============================] - 1s 87ms/step - loss: 1.5769 - mae: 2.0255\n",
            "Epoch 40/100\n",
            "15/15 [==============================] - 1s 85ms/step - loss: 1.4922 - mae: 1.9359\n",
            "Epoch 41/100\n",
            "15/15 [==============================] - 1s 83ms/step - loss: 1.4149 - mae: 1.8545\n",
            "Epoch 42/100\n",
            "15/15 [==============================] - 1s 86ms/step - loss: 1.5972 - mae: 2.0469\n",
            "Epoch 43/100\n",
            "15/15 [==============================] - 1s 85ms/step - loss: 1.3896 - mae: 1.8333\n",
            "Epoch 44/100\n",
            "15/15 [==============================] - 1s 87ms/step - loss: 1.3644 - mae: 1.8053\n",
            "Epoch 45/100\n",
            "15/15 [==============================] - 2s 90ms/step - loss: 1.3836 - mae: 1.8203\n",
            "Epoch 46/100\n",
            "15/15 [==============================] - 1s 84ms/step - loss: 1.3398 - mae: 1.7774\n",
            "Epoch 47/100\n",
            "15/15 [==============================] - 1s 85ms/step - loss: 1.3138 - mae: 1.7539\n",
            "Epoch 48/100\n",
            "15/15 [==============================] - 1s 87ms/step - loss: 1.2466 - mae: 1.6816\n",
            "Epoch 49/100\n",
            "15/15 [==============================] - 1s 85ms/step - loss: 1.4913 - mae: 1.9381\n",
            "Epoch 50/100\n",
            "15/15 [==============================] - 2s 89ms/step - loss: 1.4129 - mae: 1.8561\n",
            "Epoch 51/100\n",
            "15/15 [==============================] - 1s 85ms/step - loss: 1.3152 - mae: 1.7583\n",
            "Epoch 52/100\n",
            "15/15 [==============================] - 1s 85ms/step - loss: 1.4044 - mae: 1.8463\n",
            "Epoch 53/100\n",
            "15/15 [==============================] - 1s 87ms/step - loss: 1.4694 - mae: 1.9101\n",
            "Epoch 54/100\n",
            "15/15 [==============================] - 1s 86ms/step - loss: 1.2721 - mae: 1.7057\n",
            "Epoch 55/100\n",
            "15/15 [==============================] - 1s 86ms/step - loss: 1.3603 - mae: 1.7984\n",
            "Epoch 56/100\n",
            "15/15 [==============================] - 1s 87ms/step - loss: 1.2915 - mae: 1.7253\n",
            "Epoch 57/100\n",
            "15/15 [==============================] - 1s 85ms/step - loss: 1.2122 - mae: 1.6448\n",
            "Epoch 58/100\n",
            "15/15 [==============================] - 1s 87ms/step - loss: 1.2679 - mae: 1.7032\n",
            "Epoch 59/100\n",
            "15/15 [==============================] - 1s 87ms/step - loss: 1.2048 - mae: 1.6375\n",
            "Epoch 60/100\n",
            "15/15 [==============================] - 1s 89ms/step - loss: 1.2148 - mae: 1.6517\n",
            "Epoch 61/100\n",
            "15/15 [==============================] - 1s 86ms/step - loss: 1.3478 - mae: 1.7931\n",
            "Epoch 62/100\n",
            "15/15 [==============================] - 1s 85ms/step - loss: 1.2734 - mae: 1.7097\n",
            "Epoch 63/100\n",
            "15/15 [==============================] - 1s 86ms/step - loss: 1.3338 - mae: 1.7740\n",
            "Epoch 64/100\n",
            "15/15 [==============================] - 1s 85ms/step - loss: 1.1538 - mae: 1.5857\n",
            "Epoch 65/100\n",
            "15/15 [==============================] - 1s 87ms/step - loss: 1.3434 - mae: 1.7840\n",
            "Epoch 66/100\n",
            "15/15 [==============================] - 2s 90ms/step - loss: 1.4070 - mae: 1.8508\n",
            "Epoch 67/100\n",
            "15/15 [==============================] - 1s 85ms/step - loss: 1.2701 - mae: 1.7120\n",
            "Epoch 68/100\n",
            "15/15 [==============================] - 1s 88ms/step - loss: 1.2933 - mae: 1.7285\n",
            "Epoch 69/100\n",
            "15/15 [==============================] - 1s 84ms/step - loss: 1.1740 - mae: 1.6040\n",
            "Epoch 70/100\n",
            "15/15 [==============================] - 1s 85ms/step - loss: 1.4611 - mae: 1.9062\n",
            "Epoch 71/100\n",
            "15/15 [==============================] - 1s 87ms/step - loss: 1.1929 - mae: 1.6236\n",
            "Epoch 72/100\n",
            "15/15 [==============================] - 1s 85ms/step - loss: 1.1801 - mae: 1.6105\n",
            "Epoch 73/100\n",
            "15/15 [==============================] - 1s 86ms/step - loss: 1.2158 - mae: 1.6460\n",
            "Epoch 74/100\n",
            "15/15 [==============================] - 2s 89ms/step - loss: 1.1923 - mae: 1.6270\n",
            "Epoch 75/100\n",
            "15/15 [==============================] - 1s 85ms/step - loss: 1.2908 - mae: 1.7293\n",
            "Epoch 76/100\n",
            "15/15 [==============================] - 2s 91ms/step - loss: 1.1433 - mae: 1.5757\n",
            "Epoch 77/100\n",
            "15/15 [==============================] - 1s 87ms/step - loss: 1.3767 - mae: 1.8174\n",
            "Epoch 78/100\n",
            "15/15 [==============================] - 1s 84ms/step - loss: 1.1359 - mae: 1.5684\n",
            "Epoch 79/100\n",
            "15/15 [==============================] - 2s 93ms/step - loss: 1.1113 - mae: 1.5397\n",
            "Epoch 80/100\n",
            "15/15 [==============================] - 2s 88ms/step - loss: 1.2231 - mae: 1.6541\n",
            "Epoch 81/100\n",
            "15/15 [==============================] - 1s 87ms/step - loss: 1.1555 - mae: 1.5879\n",
            "Epoch 82/100\n",
            "15/15 [==============================] - 1s 86ms/step - loss: 1.1390 - mae: 1.5702\n",
            "Epoch 83/100\n",
            "15/15 [==============================] - 1s 86ms/step - loss: 1.1240 - mae: 1.5552\n",
            "Epoch 84/100\n",
            "15/15 [==============================] - 1s 86ms/step - loss: 1.4820 - mae: 1.9262\n",
            "Epoch 85/100\n",
            "15/15 [==============================] - 1s 87ms/step - loss: 1.2111 - mae: 1.6468\n",
            "Epoch 86/100\n",
            "15/15 [==============================] - 2s 89ms/step - loss: 1.6049 - mae: 2.0546\n",
            "Epoch 87/100\n",
            "15/15 [==============================] - 1s 88ms/step - loss: 1.1707 - mae: 1.6019\n",
            "Epoch 88/100\n",
            "15/15 [==============================] - 1s 85ms/step - loss: 1.0869 - mae: 1.5165\n",
            "Epoch 89/100\n",
            "15/15 [==============================] - 1s 84ms/step - loss: 1.1217 - mae: 1.5522\n",
            "Epoch 90/100\n",
            "15/15 [==============================] - 1s 86ms/step - loss: 1.0924 - mae: 1.5196\n",
            "Epoch 91/100\n",
            "15/15 [==============================] - 1s 86ms/step - loss: 1.0698 - mae: 1.4966\n",
            "Epoch 92/100\n",
            "15/15 [==============================] - 1s 85ms/step - loss: 1.0765 - mae: 1.5033\n",
            "Epoch 93/100\n",
            "15/15 [==============================] - 1s 86ms/step - loss: 1.0692 - mae: 1.4918\n",
            "Epoch 94/100\n",
            "15/15 [==============================] - 1s 86ms/step - loss: 1.0697 - mae: 1.4969\n",
            "Epoch 95/100\n",
            "15/15 [==============================] - 1s 86ms/step - loss: 1.1500 - mae: 1.5836\n",
            "Epoch 96/100\n",
            "15/15 [==============================] - 1s 87ms/step - loss: 1.1132 - mae: 1.5399\n",
            "Epoch 97/100\n",
            "15/15 [==============================] - 2s 92ms/step - loss: 1.0586 - mae: 1.4816\n",
            "Epoch 98/100\n",
            "15/15 [==============================] - 2s 89ms/step - loss: 1.0597 - mae: 1.4878\n",
            "Epoch 99/100\n",
            "15/15 [==============================] - 1s 85ms/step - loss: 1.0512 - mae: 1.4772\n",
            "Epoch 100/100\n",
            "15/15 [==============================] - 1s 88ms/step - loss: 1.0716 - mae: 1.5011\n"
          ],
          "name": "stdout"
        }
      ]
    },
    {
      "cell_type": "code",
      "metadata": {
        "id": "MmbC-8_e25f1"
      },
      "source": [
        ""
      ],
      "execution_count": null,
      "outputs": []
    }
  ]
}